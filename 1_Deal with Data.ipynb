{
 "cells": [
  {
   "cell_type": "markdown",
   "id": "aa7650de7607c975",
   "metadata": {
    "collapsed": false,
    "jupyter": {
     "outputs_hidden": false
    }
   },
   "source": [
    "# Import Data"
   ]
  },
  {
   "cell_type": "code",
   "id": "initial_id",
   "metadata": {
    "ExecuteTime": {
     "end_time": "2024-04-14T06:53:50.081220Z",
     "start_time": "2024-04-14T06:53:50.078642Z"
    }
   },
   "source": [
    "# !pip install demoji\n",
    "import pandas as pd\n",
    "from SelfModules import Module_Data_Deal as Data_Deal"
   ],
   "outputs": [],
   "execution_count": 15
  },
  {
   "cell_type": "code",
   "id": "9def540cc0d98585",
   "metadata": {
    "collapsed": false,
    "jupyter": {
     "outputs_hidden": false
    },
    "ExecuteTime": {
     "end_time": "2024-04-14T06:53:50.302565Z",
     "start_time": "2024-04-14T06:53:50.294691Z"
    }
   },
   "source": [
    "# data import\n",
    "%time df_video_data = pd.read_pickle('3muggles_video_data.pickle')"
   ],
   "outputs": [
    {
     "name": "stdout",
     "output_type": "stream",
     "text": [
      "CPU times: user 3.97 ms, sys: 1.54 ms, total: 5.5 ms\n",
      "Wall time: 4.79 ms\n"
     ]
    }
   ],
   "execution_count": 16
  },
  {
   "cell_type": "code",
   "id": "b47252115dd53397",
   "metadata": {
    "collapsed": false,
    "jupyter": {
     "outputs_hidden": false
    },
    "ExecuteTime": {
     "end_time": "2024-04-14T06:53:50.496595Z",
     "start_time": "2024-04-14T06:53:50.488241Z"
    }
   },
   "source": [
    "df_video_data =  df_video_data.sort_values(by='Views', ascending = False)\n",
    "df_video_data.tail()"
   ],
   "outputs": [
    {
     "data": {
      "text/plain": [
       "                                                 Title Published_date  Views  \\\n",
       "12                                   搶先開箱！日本麥當勞哆啦A夢玩具！     2024-03-18  12089   \n",
       "0    在大阪使用優惠券過一天！原來這樣玩可以省到錢？人氣景點、逛街、美食...章魚燒最推這間？來大...     2024-04-13  11839   \n",
       "18                                            吃螃蟹的標準表情     2024-03-07  11749   \n",
       "5                                               拼樂高聊是非     2024-03-30   9177   \n",
       "277                              小兵生日high起來！唱歌跳舞樣樣來(?)     2021-12-12      0   \n",
       "\n",
       "     Likes                                               Tags  Comments  \n",
       "12     644  [哆啦A夢, 日本, 麥當勞, 兒童餐, 玩具, 第一彈, 搶購, 限量, 限定期間, 大雄...        15  \n",
       "0      360  [大阪, 旅遊, 優惠券, 關西樂享周遊券, 人氣景點, 逛街, 美食, 省錢, 小資, 轉...        24  \n",
       "18     500                                                 []        11  \n",
       "5      234                                                 []         6  \n",
       "277    104                                                 []         0  "
      ],
      "text/html": [
       "<div>\n",
       "<style scoped>\n",
       "    .dataframe tbody tr th:only-of-type {\n",
       "        vertical-align: middle;\n",
       "    }\n",
       "\n",
       "    .dataframe tbody tr th {\n",
       "        vertical-align: top;\n",
       "    }\n",
       "\n",
       "    .dataframe thead th {\n",
       "        text-align: right;\n",
       "    }\n",
       "</style>\n",
       "<table border=\"1\" class=\"dataframe\">\n",
       "  <thead>\n",
       "    <tr style=\"text-align: right;\">\n",
       "      <th></th>\n",
       "      <th>Title</th>\n",
       "      <th>Published_date</th>\n",
       "      <th>Views</th>\n",
       "      <th>Likes</th>\n",
       "      <th>Tags</th>\n",
       "      <th>Comments</th>\n",
       "    </tr>\n",
       "  </thead>\n",
       "  <tbody>\n",
       "    <tr>\n",
       "      <th>12</th>\n",
       "      <td>搶先開箱！日本麥當勞哆啦A夢玩具！</td>\n",
       "      <td>2024-03-18</td>\n",
       "      <td>12089</td>\n",
       "      <td>644</td>\n",
       "      <td>[哆啦A夢, 日本, 麥當勞, 兒童餐, 玩具, 第一彈, 搶購, 限量, 限定期間, 大雄...</td>\n",
       "      <td>15</td>\n",
       "    </tr>\n",
       "    <tr>\n",
       "      <th>0</th>\n",
       "      <td>在大阪使用優惠券過一天！原來這樣玩可以省到錢？人氣景點、逛街、美食...章魚燒最推這間？來大...</td>\n",
       "      <td>2024-04-13</td>\n",
       "      <td>11839</td>\n",
       "      <td>360</td>\n",
       "      <td>[大阪, 旅遊, 優惠券, 關西樂享周遊券, 人氣景點, 逛街, 美食, 省錢, 小資, 轉...</td>\n",
       "      <td>24</td>\n",
       "    </tr>\n",
       "    <tr>\n",
       "      <th>18</th>\n",
       "      <td>吃螃蟹的標準表情</td>\n",
       "      <td>2024-03-07</td>\n",
       "      <td>11749</td>\n",
       "      <td>500</td>\n",
       "      <td>[]</td>\n",
       "      <td>11</td>\n",
       "    </tr>\n",
       "    <tr>\n",
       "      <th>5</th>\n",
       "      <td>拼樂高聊是非</td>\n",
       "      <td>2024-03-30</td>\n",
       "      <td>9177</td>\n",
       "      <td>234</td>\n",
       "      <td>[]</td>\n",
       "      <td>6</td>\n",
       "    </tr>\n",
       "    <tr>\n",
       "      <th>277</th>\n",
       "      <td>小兵生日high起來！唱歌跳舞樣樣來(?)</td>\n",
       "      <td>2021-12-12</td>\n",
       "      <td>0</td>\n",
       "      <td>104</td>\n",
       "      <td>[]</td>\n",
       "      <td>0</td>\n",
       "    </tr>\n",
       "  </tbody>\n",
       "</table>\n",
       "</div>"
      ]
     },
     "execution_count": 17,
     "metadata": {},
     "output_type": "execute_result"
    }
   ],
   "execution_count": 17
  },
  {
   "cell_type": "code",
   "id": "36300e8d94023f99",
   "metadata": {
    "collapsed": false,
    "jupyter": {
     "outputs_hidden": false
    },
    "ExecuteTime": {
     "end_time": "2024-04-14T06:53:50.662241Z",
     "start_time": "2024-04-14T06:53:50.655904Z"
    }
   },
   "source": [
    "# delete the last row which has 0 view\n",
    "df_video_data.drop(df_video_data.tail(1).index,inplace=True)\n",
    "df_video_data.tail()"
   ],
   "outputs": [
    {
     "data": {
      "text/plain": [
       "                                                Title Published_date  Views  \\\n",
       "46                           搶先開箱！THE 哆啦A夢展！終於在台北開幕了🔥     2023-12-16  12175   \n",
       "12                                  搶先開箱！日本麥當勞哆啦A夢玩具！     2024-03-18  12089   \n",
       "0   在大阪使用優惠券過一天！原來這樣玩可以省到錢？人氣景點、逛街、美食...章魚燒最推這間？來大...     2024-04-13  11839   \n",
       "18                                           吃螃蟹的標準表情     2024-03-07  11749   \n",
       "5                                              拼樂高聊是非     2024-03-30   9177   \n",
       "\n",
       "    Likes                                               Tags  Comments  \n",
       "46    428                [哆啦A夢, THE哆啦A夢展, 中正紀念堂, 台北展覽, 童年回憶]         9  \n",
       "12    644  [哆啦A夢, 日本, 麥當勞, 兒童餐, 玩具, 第一彈, 搶購, 限量, 限定期間, 大雄...        15  \n",
       "0     360  [大阪, 旅遊, 優惠券, 關西樂享周遊券, 人氣景點, 逛街, 美食, 省錢, 小資, 轉...        24  \n",
       "18    500                                                 []        11  \n",
       "5     234                                                 []         6  "
      ],
      "text/html": [
       "<div>\n",
       "<style scoped>\n",
       "    .dataframe tbody tr th:only-of-type {\n",
       "        vertical-align: middle;\n",
       "    }\n",
       "\n",
       "    .dataframe tbody tr th {\n",
       "        vertical-align: top;\n",
       "    }\n",
       "\n",
       "    .dataframe thead th {\n",
       "        text-align: right;\n",
       "    }\n",
       "</style>\n",
       "<table border=\"1\" class=\"dataframe\">\n",
       "  <thead>\n",
       "    <tr style=\"text-align: right;\">\n",
       "      <th></th>\n",
       "      <th>Title</th>\n",
       "      <th>Published_date</th>\n",
       "      <th>Views</th>\n",
       "      <th>Likes</th>\n",
       "      <th>Tags</th>\n",
       "      <th>Comments</th>\n",
       "    </tr>\n",
       "  </thead>\n",
       "  <tbody>\n",
       "    <tr>\n",
       "      <th>46</th>\n",
       "      <td>搶先開箱！THE 哆啦A夢展！終於在台北開幕了🔥</td>\n",
       "      <td>2023-12-16</td>\n",
       "      <td>12175</td>\n",
       "      <td>428</td>\n",
       "      <td>[哆啦A夢, THE哆啦A夢展, 中正紀念堂, 台北展覽, 童年回憶]</td>\n",
       "      <td>9</td>\n",
       "    </tr>\n",
       "    <tr>\n",
       "      <th>12</th>\n",
       "      <td>搶先開箱！日本麥當勞哆啦A夢玩具！</td>\n",
       "      <td>2024-03-18</td>\n",
       "      <td>12089</td>\n",
       "      <td>644</td>\n",
       "      <td>[哆啦A夢, 日本, 麥當勞, 兒童餐, 玩具, 第一彈, 搶購, 限量, 限定期間, 大雄...</td>\n",
       "      <td>15</td>\n",
       "    </tr>\n",
       "    <tr>\n",
       "      <th>0</th>\n",
       "      <td>在大阪使用優惠券過一天！原來這樣玩可以省到錢？人氣景點、逛街、美食...章魚燒最推這間？來大...</td>\n",
       "      <td>2024-04-13</td>\n",
       "      <td>11839</td>\n",
       "      <td>360</td>\n",
       "      <td>[大阪, 旅遊, 優惠券, 關西樂享周遊券, 人氣景點, 逛街, 美食, 省錢, 小資, 轉...</td>\n",
       "      <td>24</td>\n",
       "    </tr>\n",
       "    <tr>\n",
       "      <th>18</th>\n",
       "      <td>吃螃蟹的標準表情</td>\n",
       "      <td>2024-03-07</td>\n",
       "      <td>11749</td>\n",
       "      <td>500</td>\n",
       "      <td>[]</td>\n",
       "      <td>11</td>\n",
       "    </tr>\n",
       "    <tr>\n",
       "      <th>5</th>\n",
       "      <td>拼樂高聊是非</td>\n",
       "      <td>2024-03-30</td>\n",
       "      <td>9177</td>\n",
       "      <td>234</td>\n",
       "      <td>[]</td>\n",
       "      <td>6</td>\n",
       "    </tr>\n",
       "  </tbody>\n",
       "</table>\n",
       "</div>"
      ]
     },
     "execution_count": 18,
     "metadata": {},
     "output_type": "execute_result"
    }
   ],
   "execution_count": 18
  },
  {
   "cell_type": "markdown",
   "id": "8f6030db31583b70",
   "metadata": {
    "collapsed": false,
    "jupyter": {
     "outputs_hidden": false
    }
   },
   "source": [
    "# Create more data"
   ]
  },
  {
   "cell_type": "code",
   "id": "f56e97bcebc845f2",
   "metadata": {
    "collapsed": false,
    "jupyter": {
     "outputs_hidden": false
    },
    "ExecuteTime": {
     "end_time": "2024-04-14T06:53:51.141967Z",
     "start_time": "2024-04-14T06:53:51.131417Z"
    }
   },
   "source": [
    "# creat more data\n",
    "\n",
    "DD = Data_Deal.Generator(df_video_data)\n",
    "\n",
    "Data_Deal.Generator.create_percent(DD, 'Likes', 'Views');\n",
    "Data_Deal.Generator.create_percent(DD, 'Comments', 'Likes');\n",
    "Data_Deal.Generator.create_percent(DD, 'Comments', 'Views');"
   ],
   "outputs": [],
   "execution_count": 19
  },
  {
   "cell_type": "code",
   "id": "38fee6e5-ea5b-4004-9c01-131977c90a95",
   "metadata": {
    "ExecuteTime": {
     "end_time": "2024-04-14T06:53:51.578465Z",
     "start_time": "2024-04-14T06:53:51.575856Z"
    }
   },
   "source": [
    "DD.df_data.head;"
   ],
   "outputs": [],
   "execution_count": 20
  },
  {
   "cell_type": "code",
   "id": "6376f9063020153b",
   "metadata": {
    "collapsed": false,
    "jupyter": {
     "outputs_hidden": false
    },
    "ExecuteTime": {
     "end_time": "2024-04-14T06:53:51.883840Z",
     "start_time": "2024-04-14T06:53:51.880496Z"
    }
   },
   "source": [
    "''' add time difference '''\n",
    "from datetime import date\n",
    "\n",
    "today = date.today()\n",
    "today;\n",
    "\n",
    "DD.df_data['Time Duration'] = [(today - i).days for i in df_video_data['Published_date']]"
   ],
   "outputs": [],
   "execution_count": 21
  },
  {
   "cell_type": "code",
   "id": "4435acd0e48fa03a",
   "metadata": {
    "collapsed": false,
    "jupyter": {
     "outputs_hidden": false
    },
    "ExecuteTime": {
     "end_time": "2024-04-14T06:53:52.298039Z",
     "start_time": "2024-04-14T06:53:52.295284Z"
    }
   },
   "source": [
    "DD.df_data.head();"
   ],
   "outputs": [],
   "execution_count": 22
  },
  {
   "cell_type": "code",
   "id": "5ddbea34b6146f58",
   "metadata": {
    "collapsed": false,
    "jupyter": {
     "outputs_hidden": false
    },
    "ExecuteTime": {
     "end_time": "2024-04-14T06:53:52.664861Z",
     "start_time": "2024-04-14T06:53:52.643253Z"
    }
   },
   "source": [
    "# !pip install demoji\n",
    "# import demoji\n",
    "Data_Deal.Generator.three_muggle_group(DD)"
   ],
   "outputs": [],
   "execution_count": 23
  },
  {
   "cell_type": "code",
   "id": "d37017db-e66a-488d-96d8-091f696c6547",
   "metadata": {
    "ExecuteTime": {
     "end_time": "2024-04-14T06:53:53.035268Z",
     "start_time": "2024-04-14T06:53:53.031905Z"
    }
   },
   "source": [
    "set(df_video_data['Group']);\n",
    "df_video_data.loc[df_video_data['Group'] == 'None'];"
   ],
   "outputs": [],
   "execution_count": 24
  },
  {
   "cell_type": "code",
   "id": "fa6bb85367d1eb73",
   "metadata": {
    "collapsed": false,
    "jupyter": {
     "outputs_hidden": false
    },
    "ExecuteTime": {
     "end_time": "2024-04-14T06:53:53.404539Z",
     "start_time": "2024-04-14T06:53:53.396625Z"
    }
   },
   "source": [
    "list_none_group = df_video_data.loc[df_video_data['Group'] == 'None'].index\n",
    "list_assign_group = ['shorts', 'shorts', '麻瓜日常', 'shorts', '麻瓜日常', 'shorts', '麻瓜cover', \\\n",
    "                    '麻瓜團康', '麻瓜日常', '麻瓜直播', 'shorts', 'shorts', '麻瓜團康', '麻瓜街訪', \\\n",
    "                    'shorts', '麻瓜團康', 'shorts', '麻瓜cover', 'shorts', 'shorts', 'shorts', \\\n",
    "                    'shorts', '麻瓜直播', '麻瓜cover', 'shorts', 'shorts', 'shorts', 'shorts', \\\n",
    "                    '麻瓜直播', 'shorts', 'shorts', 'shorts', '麻瓜直播', 'shorts', 'shorts', \\\n",
    "                    '麻瓜開箱', '麻瓜開箱', '麻瓜開箱', 'shorts', '麻瓜直播']\n",
    "\n",
    "for i in range(0, len(list_none_group)):\n",
    "    df_video_data.loc[list_none_group[i], 'Group'] = list_assign_group[i]"
   ],
   "outputs": [],
   "execution_count": 25
  },
  {
   "cell_type": "code",
   "id": "89fd6473-0d12-487e-97ed-cd289bf3ce0c",
   "metadata": {
    "ExecuteTime": {
     "end_time": "2024-04-14T06:53:54.182749Z",
     "start_time": "2024-04-14T06:53:54.176350Z"
    }
   },
   "source": [
    "df_video_data.loc[df_video_data['Group'] == 'None']"
   ],
   "outputs": [
    {
     "data": {
      "text/plain": [
       "Empty DataFrame\n",
       "Columns: [Title, Published_date, Views, Likes, Tags, Comments, Likes/Views(%), Comments/Likes(%), Comments/Views(%), Time Duration, Group]\n",
       "Index: []"
      ],
      "text/html": [
       "<div>\n",
       "<style scoped>\n",
       "    .dataframe tbody tr th:only-of-type {\n",
       "        vertical-align: middle;\n",
       "    }\n",
       "\n",
       "    .dataframe tbody tr th {\n",
       "        vertical-align: top;\n",
       "    }\n",
       "\n",
       "    .dataframe thead th {\n",
       "        text-align: right;\n",
       "    }\n",
       "</style>\n",
       "<table border=\"1\" class=\"dataframe\">\n",
       "  <thead>\n",
       "    <tr style=\"text-align: right;\">\n",
       "      <th></th>\n",
       "      <th>Title</th>\n",
       "      <th>Published_date</th>\n",
       "      <th>Views</th>\n",
       "      <th>Likes</th>\n",
       "      <th>Tags</th>\n",
       "      <th>Comments</th>\n",
       "      <th>Likes/Views(%)</th>\n",
       "      <th>Comments/Likes(%)</th>\n",
       "      <th>Comments/Views(%)</th>\n",
       "      <th>Time Duration</th>\n",
       "      <th>Group</th>\n",
       "    </tr>\n",
       "  </thead>\n",
       "  <tbody>\n",
       "  </tbody>\n",
       "</table>\n",
       "</div>"
      ]
     },
     "execution_count": 26,
     "metadata": {},
     "output_type": "execute_result"
    }
   ],
   "execution_count": 26
  },
  {
   "metadata": {
    "ExecuteTime": {
     "end_time": "2024-04-14T06:53:54.739313Z",
     "start_time": "2024-04-14T06:53:54.735903Z"
    }
   },
   "cell_type": "code",
   "source": "set(df_video_data['Group'])",
   "id": "aa5bc3224d92b677",
   "outputs": [
    {
     "data": {
      "text/plain": [
       "{'shorts',\n",
       " '奔三女孩向前衝',\n",
       " '麻瓜cover',\n",
       " '麻瓜出遊',\n",
       " '麻瓜呱呱',\n",
       " '麻瓜團康',\n",
       " '麻瓜小短劇',\n",
       " '麻瓜廚房',\n",
       " '麻瓜挑戰',\n",
       " '麻瓜整人',\n",
       " '麻瓜日常',\n",
       " '麻瓜特派員',\n",
       " '麻瓜直播',\n",
       " '麻瓜街訪',\n",
       " '麻瓜調查',\n",
       " '麻瓜跟風',\n",
       " '麻瓜開箱'}"
      ]
     },
     "execution_count": 27,
     "metadata": {},
     "output_type": "execute_result"
    }
   ],
   "execution_count": 27
  },
  {
   "cell_type": "code",
   "id": "43392b112c3e3d87",
   "metadata": {
    "collapsed": false,
    "jupyter": {
     "outputs_hidden": false
    },
    "ExecuteTime": {
     "end_time": "2024-04-14T06:54:08.950916Z",
     "start_time": "2024-04-14T06:53:58.940208Z"
    }
   },
   "source": [
    "# save data\n",
    "\n",
    "%timeit df_video_data.to_pickle('muggles_dealed_data.pickle')\n",
    "!ls -GFlash muggles_dealed_data.pickle"
   ],
   "outputs": [
    {
     "name": "stdout",
     "output_type": "stream",
     "text": [
      "1.21 ms ± 12 µs per loop (mean ± std. dev. of 7 runs, 1,000 loops each)\n",
      "648 -rw-r--r--  1 yulinzhou  staff   298K Apr 14 08:54 muggles_dealed_data.pickle\r\n"
     ]
    }
   ],
   "execution_count": 28
  },
  {
   "cell_type": "code",
   "execution_count": null,
   "id": "b256f0aefdb9b8e7",
   "metadata": {
    "collapsed": false,
    "jupyter": {
     "outputs_hidden": false
    }
   },
   "outputs": [],
   "source": []
  }
 ],
 "metadata": {
  "kernelspec": {
   "display_name": "Python 3 (ipykernel)",
   "language": "python",
   "name": "python3"
  },
  "language_info": {
   "codemirror_mode": {
    "name": "ipython",
    "version": 3
   },
   "file_extension": ".py",
   "mimetype": "text/x-python",
   "name": "python",
   "nbconvert_exporter": "python",
   "pygments_lexer": "ipython3",
   "version": "3.9.19"
  }
 },
 "nbformat": 4,
 "nbformat_minor": 5
}
